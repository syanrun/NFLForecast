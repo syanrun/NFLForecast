{
 "cells": [
  {
   "cell_type": "code",
   "execution_count": 2,
   "metadata": {},
   "outputs": [],
   "source": [
    "#import required modules\n",
    "import pandas as pd\n",
    "import numpy as np\n",
    "from sklearn.model_selection import train_test_split\n",
    "import pickle"
   ]
  },
  {
   "cell_type": "code",
   "execution_count": 3,
   "metadata": {},
   "outputs": [
    {
     "data": {
      "text/html": [
       "<div>\n",
       "<style scoped>\n",
       "    .dataframe tbody tr th:only-of-type {\n",
       "        vertical-align: middle;\n",
       "    }\n",
       "\n",
       "    .dataframe tbody tr th {\n",
       "        vertical-align: top;\n",
       "    }\n",
       "\n",
       "    .dataframe thead th {\n",
       "        text-align: right;\n",
       "    }\n",
       "</style>\n",
       "<table border=\"1\" class=\"dataframe\">\n",
       "  <thead>\n",
       "    <tr style=\"text-align: right;\">\n",
       "      <th></th>\n",
       "      <th>Differential</th>\n",
       "      <th>QB FOR</th>\n",
       "      <th>WR FOR</th>\n",
       "      <th>TE FOR</th>\n",
       "      <th>RB FOR</th>\n",
       "      <th>DT FOR</th>\n",
       "      <th>LT FOR</th>\n",
       "      <th>CB FOR</th>\n",
       "      <th>LB FOR</th>\n",
       "      <th>S FOR</th>\n",
       "      <th>...</th>\n",
       "      <th>DT AGAINST</th>\n",
       "      <th>LT AGAINST</th>\n",
       "      <th>CB AGAINST</th>\n",
       "      <th>LB AGAINST</th>\n",
       "      <th>S AGAINST</th>\n",
       "      <th>RT AGAINST</th>\n",
       "      <th>EDGE AGAINST</th>\n",
       "      <th>C AGAINST</th>\n",
       "      <th>LG AGAINST</th>\n",
       "      <th>RG AGAINST</th>\n",
       "    </tr>\n",
       "    <tr>\n",
       "      <th>gamename</th>\n",
       "      <th></th>\n",
       "      <th></th>\n",
       "      <th></th>\n",
       "      <th></th>\n",
       "      <th></th>\n",
       "      <th></th>\n",
       "      <th></th>\n",
       "      <th></th>\n",
       "      <th></th>\n",
       "      <th></th>\n",
       "      <th></th>\n",
       "      <th></th>\n",
       "      <th></th>\n",
       "      <th></th>\n",
       "      <th></th>\n",
       "      <th></th>\n",
       "      <th></th>\n",
       "      <th></th>\n",
       "      <th></th>\n",
       "      <th></th>\n",
       "      <th></th>\n",
       "    </tr>\n",
       "  </thead>\n",
       "  <tbody>\n",
       "    <tr>\n",
       "      <th>Chiefs Texans 2020</th>\n",
       "      <td>1</td>\n",
       "      <td>90.2</td>\n",
       "      <td>84.5</td>\n",
       "      <td>86.1</td>\n",
       "      <td>65.7</td>\n",
       "      <td>87.6</td>\n",
       "      <td>71.2</td>\n",
       "      <td>71.9</td>\n",
       "      <td>50.4</td>\n",
       "      <td>75.4</td>\n",
       "      <td>...</td>\n",
       "      <td>59.8</td>\n",
       "      <td>75.1</td>\n",
       "      <td>64.5</td>\n",
       "      <td>68.6</td>\n",
       "      <td>76.7</td>\n",
       "      <td>59.4</td>\n",
       "      <td>87.0</td>\n",
       "      <td>67.3</td>\n",
       "      <td>59.1</td>\n",
       "      <td>53.4</td>\n",
       "    </tr>\n",
       "    <tr>\n",
       "      <th>Seahawks Falcons 2020</th>\n",
       "      <td>1</td>\n",
       "      <td>92.0</td>\n",
       "      <td>81.9</td>\n",
       "      <td>79.6</td>\n",
       "      <td>77.9</td>\n",
       "      <td>68.4</td>\n",
       "      <td>74.1</td>\n",
       "      <td>87.6</td>\n",
       "      <td>76.4</td>\n",
       "      <td>73.4</td>\n",
       "      <td>...</td>\n",
       "      <td>90.1</td>\n",
       "      <td>79.7</td>\n",
       "      <td>56.8</td>\n",
       "      <td>76.6</td>\n",
       "      <td>72.0</td>\n",
       "      <td>53.0</td>\n",
       "      <td>72.0</td>\n",
       "      <td>72.1</td>\n",
       "      <td>87.7</td>\n",
       "      <td>47.0</td>\n",
       "    </tr>\n",
       "    <tr>\n",
       "      <th>Bills Jets 2020</th>\n",
       "      <td>1</td>\n",
       "      <td>64.1</td>\n",
       "      <td>78.3</td>\n",
       "      <td>60.2</td>\n",
       "      <td>69.3</td>\n",
       "      <td>65.1</td>\n",
       "      <td>73.1</td>\n",
       "      <td>74.3</td>\n",
       "      <td>65.6</td>\n",
       "      <td>77.7</td>\n",
       "      <td>...</td>\n",
       "      <td>81.3</td>\n",
       "      <td>74.4</td>\n",
       "      <td>79.0</td>\n",
       "      <td>73.9</td>\n",
       "      <td>87.9</td>\n",
       "      <td>60.6</td>\n",
       "      <td>73.1</td>\n",
       "      <td>72.0</td>\n",
       "      <td>56.1</td>\n",
       "      <td>65.6</td>\n",
       "    </tr>\n",
       "    <tr>\n",
       "      <th>Raiders Panthers 2020</th>\n",
       "      <td>1</td>\n",
       "      <td>79.9</td>\n",
       "      <td>75.5</td>\n",
       "      <td>83.2</td>\n",
       "      <td>87.1</td>\n",
       "      <td>73.1</td>\n",
       "      <td>64.9</td>\n",
       "      <td>67.4</td>\n",
       "      <td>79.0</td>\n",
       "      <td>69.3</td>\n",
       "      <td>...</td>\n",
       "      <td>83.7</td>\n",
       "      <td>79.3</td>\n",
       "      <td>63.8</td>\n",
       "      <td>65.9</td>\n",
       "      <td>76.4</td>\n",
       "      <td>76.2</td>\n",
       "      <td>54.7</td>\n",
       "      <td>63.4</td>\n",
       "      <td>58.6</td>\n",
       "      <td>63.6</td>\n",
       "    </tr>\n",
       "    <tr>\n",
       "      <th>Bears Lions 2020</th>\n",
       "      <td>1</td>\n",
       "      <td>76.6</td>\n",
       "      <td>80.8</td>\n",
       "      <td>58.0</td>\n",
       "      <td>66.6</td>\n",
       "      <td>91.7</td>\n",
       "      <td>58.6</td>\n",
       "      <td>62.5</td>\n",
       "      <td>61.9</td>\n",
       "      <td>66.8</td>\n",
       "      <td>...</td>\n",
       "      <td>85.9</td>\n",
       "      <td>75.5</td>\n",
       "      <td>82.8</td>\n",
       "      <td>72.3</td>\n",
       "      <td>74.4</td>\n",
       "      <td>74.4</td>\n",
       "      <td>83.0</td>\n",
       "      <td>74.9</td>\n",
       "      <td>64.9</td>\n",
       "      <td>78.7</td>\n",
       "    </tr>\n",
       "  </tbody>\n",
       "</table>\n",
       "<p>5 rows × 29 columns</p>\n",
       "</div>"
      ],
      "text/plain": [
       "                       Differential QB FOR WR FOR TE FOR RB FOR DT FOR LT FOR  \\\n",
       "gamename                                                                        \n",
       "Chiefs Texans 2020                1   90.2   84.5   86.1   65.7   87.6   71.2   \n",
       "Seahawks Falcons 2020             1   92.0   81.9   79.6   77.9   68.4   74.1   \n",
       "Bills Jets 2020                   1   64.1   78.3   60.2   69.3   65.1   73.1   \n",
       "Raiders Panthers 2020             1   79.9   75.5   83.2   87.1   73.1   64.9   \n",
       "Bears Lions 2020                  1   76.6   80.8   58.0   66.6   91.7   58.6   \n",
       "\n",
       "                      CB FOR LB FOR S FOR  ... DT AGAINST LT AGAINST  \\\n",
       "gamename                                   ...                         \n",
       "Chiefs Texans 2020      71.9   50.4  75.4  ...       59.8       75.1   \n",
       "Seahawks Falcons 2020   87.6   76.4  73.4  ...       90.1       79.7   \n",
       "Bills Jets 2020         74.3   65.6  77.7  ...       81.3       74.4   \n",
       "Raiders Panthers 2020   67.4   79.0  69.3  ...       83.7       79.3   \n",
       "Bears Lions 2020        62.5   61.9  66.8  ...       85.9       75.5   \n",
       "\n",
       "                      CB AGAINST LB AGAINST S AGAINST RT AGAINST EDGE AGAINST  \\\n",
       "gamename                                                                        \n",
       "Chiefs Texans 2020          64.5       68.6      76.7       59.4         87.0   \n",
       "Seahawks Falcons 2020       56.8       76.6      72.0       53.0         72.0   \n",
       "Bills Jets 2020             79.0       73.9      87.9       60.6         73.1   \n",
       "Raiders Panthers 2020       63.8       65.9      76.4       76.2         54.7   \n",
       "Bears Lions 2020            82.8       72.3      74.4       74.4         83.0   \n",
       "\n",
       "                      C AGAINST LG AGAINST RG AGAINST  \n",
       "gamename                                               \n",
       "Chiefs Texans 2020         67.3       59.1       53.4  \n",
       "Seahawks Falcons 2020      72.1       87.7       47.0  \n",
       "Bills Jets 2020            72.0       56.1       65.6  \n",
       "Raiders Panthers 2020      63.4       58.6       63.6  \n",
       "Bears Lions 2020           74.9       64.9       78.7  \n",
       "\n",
       "[5 rows x 29 columns]"
      ]
     },
     "execution_count": 3,
     "metadata": {},
     "output_type": "execute_result"
    }
   ],
   "source": [
    "#unpack pickled dataframes\n",
    "\n",
    "modeling = pd.read_pickle(\"modeling.pkl\")\n",
    "forecast = pd.read_pickle(\"forecast.pkl\")\n",
    "\n",
    "#change differential into win/loss\n",
    "modeling[\"Differential\"] = modeling[\"Differential\"].apply(lambda x: 1 if x > 0 else 0)\n",
    "modeling.head()"
   ]
  },
  {
   "cell_type": "code",
   "execution_count": 4,
   "metadata": {},
   "outputs": [],
   "source": [
    "#split modeling data in to test and train (75/25)\n",
    "X = modeling.drop(\"Differential\", axis = 1)\n",
    "Y = modeling[\"Differential\"]\n",
    "\n",
    "X_train, X_test, Y_train, Y_test = train_test_split(X,Y, random_state = 0)"
   ]
  },
  {
   "cell_type": "code",
   "execution_count": 5,
   "metadata": {},
   "outputs": [],
   "source": [
    "#scaling the data\n",
    "from sklearn import preprocessing\n",
    "\n",
    "scaler = preprocessing.StandardScaler().fit(X_train)\n",
    "train_scaled = scaler.transform(X_train)\n",
    "test_scaled = scaler.transform(X_test)\n",
    "X_scaled1 = scaler.transform(X)\n",
    "\n",
    "scaler2 = preprocessing.StandardScaler().fit(X)\n",
    "X_scaled2 = scaler2.transform(X)\n",
    "forecast_scaled = scaler2.transform(forecast)"
   ]
  },
  {
   "cell_type": "code",
   "execution_count": 6,
   "metadata": {},
   "outputs": [
    {
     "name": "stdout",
     "output_type": "stream",
     "text": [
      "0.5946969696969697\n",
      "0.8131313131313131\n"
     ]
    }
   ],
   "source": [
    "#A bagged SVC gives nice results with both training and test data\n",
    "from sklearn.ensemble import BaggingClassifier\n",
    "from sklearn.svm import SVC\n",
    "from sklearn.ensemble import AdaBoostClassifier\n",
    "\n",
    "AB = BaggingClassifier(base_estimator = SVC(tol = .1, C = .9), n_jobs = -1, n_estimators = 50).fit(train_scaled,Y_train)\n",
    "print(np.sum(np.array(AB.predict(test_scaled)) == np.array(Y_test))/len(X_test))\n",
    "print(np.sum(np.array(AB.predict(train_scaled)) == np.array(Y_train))/len(X_train))\n"
   ]
  },
  {
   "cell_type": "code",
   "execution_count": 7,
   "metadata": {},
   "outputs": [
    {
     "data": {
      "text/plain": [
       "0.6496945193171608"
      ]
     },
     "execution_count": 7,
     "metadata": {},
     "output_type": "execute_result"
    }
   ],
   "source": [
    "#cross validating\n",
    "#looks like the the model will be correct ~66% of the time on average\n",
    "from sklearn.model_selection import cross_val_score\n",
    "cvscore = cross_val_score(AB, X_scaled1, Y, cv = 10)\n",
    "np.average(cvscore)"
   ]
  },
  {
   "cell_type": "code",
   "execution_count": 8,
   "metadata": {},
   "outputs": [],
   "source": [
    "#applying the model to forecast the 2022 season\n",
    "AB = BaggingClassifier(base_estimator = SVC(tol = .1, C = .9), n_jobs = -1, n_estimators = 50).fit(X_scaled2,Y)\n",
    "forecast[\"result\"] = AB.predict(forecast_scaled)"
   ]
  },
  {
   "cell_type": "code",
   "execution_count": 9,
   "metadata": {},
   "outputs": [],
   "source": [
    "#relabel and export to csv\n",
    "forecast[\"result\"] = forecast[\"result\"].apply(lambda x: \"W\" if x > 0 else \"L\")\n",
    "forecast[\"result\"].to_frame().to_csv(\"2022predictions.csv\")"
   ]
  },
  {
   "cell_type": "code",
   "execution_count": 10,
   "metadata": {},
   "outputs": [
    {
     "data": {
      "text/plain": [
       "0.6286764705882353"
      ]
     },
     "execution_count": 10,
     "metadata": {},
     "output_type": "execute_result"
    }
   ],
   "source": [
    "#Sanity Check: is this better than just predicting the favorite to win?\n",
    "#power rankings sourced from https://www.nfl.com/news/nfl-power-rankings-cowboys-up-colts-down-as-preseason-rolls-on\n",
    "#not bad, model provides 3% increase in accuracy\n",
    "teams = [\"Buccaneers\", \"Chiefs\", \"Bills\",  \"Packers\", \"Ravens\", \"Rams\", \"Seahawks\", \"Browns\", \"49ers\", \"Steelers\", \"Titans\", \"Chargers\", \"Saints\", \"Patriots\", \"Dolphins\", \"Colts\", \"Vikings\", \"Cardinals\", \"Bears\", \"Cowboys\", \"Raiders\", \"Commanders\", \"Giants\", \"Broncos\", \"Falcons\", \"Eagles\", \"Panthers\", \"Jets\", \"Jaguars\", \"Bengals\", \"Lions\", \"Texans\"]\n",
    "rankdict = {}\n",
    "for i in range(1, 33):\n",
    "        rankdict[teams[i - 1]] = i\n",
    "season2022 = X.tail(272)\n",
    "results2022 = np.array(Y.tail(272))\n",
    "season2022 = season2022.reset_index()\n",
    "predictresults = np.array(season2022[\"gamename\"].apply(lambda x: rankdict[x.split(\" \")[0]] < rankdict[x.split(\" \")[1]]))\n",
    "sum(predictresults.astype(int) == results2022)/272"
   ]
  }
 ],
 "metadata": {
  "kernelspec": {
   "display_name": "Python 3.10.5 64-bit",
   "language": "python",
   "name": "python3"
  },
  "language_info": {
   "codemirror_mode": {
    "name": "ipython",
    "version": 3
   },
   "file_extension": ".py",
   "mimetype": "text/x-python",
   "name": "python",
   "nbconvert_exporter": "python",
   "pygments_lexer": "ipython3",
   "version": "3.10.5"
  },
  "orig_nbformat": 4,
  "vscode": {
   "interpreter": {
    "hash": "aee8b7b246df8f9039afb4144a1f6fd8d2ca17a180786b69acc140d282b71a49"
   }
  }
 },
 "nbformat": 4,
 "nbformat_minor": 2
}
