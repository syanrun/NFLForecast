{
 "cells": [
  {
   "cell_type": "code",
   "execution_count": 34,
   "metadata": {},
   "outputs": [],
   "source": [
    "#import required modules\n",
    "import numpy as py\n",
    "import pandas as pd\n",
    "import re"
   ]
  },
  {
   "cell_type": "code",
   "execution_count": 35,
   "metadata": {},
   "outputs": [],
   "source": [
    "#import 2020 rosters\n",
    "with open(\"2020rosters.html\") as file:\n",
    "        output = file.read()"
   ]
  },
  {
   "cell_type": "code",
   "execution_count": 36,
   "metadata": {},
   "outputs": [],
   "source": [
    "#regex to find players - eventually going to condense into positions\n",
    "pattern = \"\"\"\n",
    "(?P<PlayerNames>[A-Z]+[A-Z]*\\s[A-Z]+[a-z]*)\n",
    "\"\"\"\n",
    "playerList = []\n",
    "for player in re.finditer(pattern, output, flags = re.S | re.X):\n",
    "        playerList.append(player.group(\"PlayerNames\"))"
   ]
  },
  {
   "cell_type": "code",
   "execution_count": 37,
   "metadata": {},
   "outputs": [],
   "source": [
    "positionList = [x.split(\" \")[0] for x in playerList]\n",
    "#Some teams have free safties, others have strong safeties, and some have both \n",
    "#We'll just replace the position with a singlular \"safety\"\n",
    "i = 0\n",
    "while i < len(positionList):\n",
    "        if positionList[i] == \"FS\" or positionList[i] == \"SS\":\n",
    "                positionList[i] = \"S\"\n",
    "        i += 1"
   ]
  },
  {
   "cell_type": "code",
   "execution_count": 38,
   "metadata": {},
   "outputs": [],
   "source": [
    "#regex to find player ratings\n",
    "pattern = \"[0-9][0-9]\\.[0-9]\"\n",
    "ratingList = []\n",
    "for rating in re.finditer(pattern, output, flags = re.S | re.X):\n",
    "        ratingList.append(rating.group())"
   ]
  },
  {
   "cell_type": "code",
   "execution_count": 39,
   "metadata": {},
   "outputs": [
    {
     "data": {
      "text/plain": [
       "DT      90.3\n",
       "QB      90.1\n",
       "LT      89.4\n",
       "TE      88.5\n",
       "CB      83.9\n",
       "RB      83.8\n",
       "LB      82.8\n",
       "S       76.9\n",
       "RT      73.6\n",
       "WR      72.8\n",
       "EDGE    69.2\n",
       "C       68.7\n",
       "LG      63.8\n",
       "RG      63.6\n",
       "dtype: float64"
      ]
     },
     "execution_count": 39,
     "metadata": {},
     "output_type": "execute_result"
    }
   ],
   "source": [
    "#hand-inputed team list to line up with the rankings in the article\n",
    "#note the Commanders have gone through a series of name changes over these past few years, \n",
    "#so I'm just giving them their current name to simplify things\n",
    "teamList = [\"Ravens\", \"Saints\", \"49ers\", \"Chiefs\", \n",
    "            \"Buccaneers\", \"Cowboys\", \"Bills\", \"Titans\", \n",
    "            \"Eagles\", \"Steelers\", \"Browns\", \"Packers\", \"Colts\",\n",
    "            \"Broncos\", \"Seahawks\", \"Chargers\", \"Vikings\", \"Patriots\",\n",
    "            \"Lions\", \"Falcons\", \"Bears\", \"Rams\", \"Texans\", \"Cardinals\",\n",
    "            \"Raiders\", \"Bengals\", \"Giants\", \"Jets\", \"Panthers\", \"Dolphins\",\n",
    "            \"Commanders\", \"Jaguars\"]\n",
    "\n",
    "#create a dictionary of teams with respective position rankings, sort from highest to lowest, dropping duplicates\n",
    "index = 0\n",
    "teamDict2020 = {}\n",
    "for team in teamList:\n",
    "        teamDict2020[team] = pd.Series(ratingList[index:index + 24], index = positionList[index:index + 24]).sort_values(ascending = False)\n",
    "        teamDict2020[team] = teamDict2020[team][~teamDict2020[team].index.duplicated(keep = 'first')]\n",
    "        teamDict2020[team] = pd.to_numeric(teamDict2020[team])\n",
    "        index += 24\n",
    "        \n",
    "#For some reason Kyle Jusczyk was the only Fullback included in these roster rankings\n",
    "#So we'll just drop him to keep the variables constant across all teams\n",
    "teamDict2020[\"49ers\"] = teamDict2020[\"49ers\"].drop(\"FB\")\n",
    "\n",
    "#Demonstrating position rankings for one team\n",
    "teamDict2020[\"Ravens\"]"
   ]
  },
  {
   "cell_type": "code",
   "execution_count": 40,
   "metadata": {},
   "outputs": [],
   "source": [
    "#import 2021 rosters\n",
    "with open(\"2021rosters.html\") as file:\n",
    "        output = file.read()"
   ]
  },
  {
   "cell_type": "code",
   "execution_count": 41,
   "metadata": {},
   "outputs": [],
   "source": [
    "#regex to find players - eventually going to condense into positions\n",
    "pattern = \"\"\"\n",
    "(?P<PlayerNames>[A-Z]+[A-Z]*\\s[A-Z]+[a-z]*)\n",
    "\"\"\"\n",
    "\n",
    "playerList = []\n",
    "for player in re.finditer(pattern, output, flags = re.S | re.X):\n",
    "        playerList.append(player.group(\"PlayerNames\"))"
   ]
  },
  {
   "cell_type": "code",
   "execution_count": 42,
   "metadata": {},
   "outputs": [],
   "source": [
    "#Some entries weirdly have no break spaces while others have regular spaces\n",
    "#Let's just remove them both\n",
    "positionList = [x.split(\"\\xa0\")[0] for x in playerList]\n",
    "positionList = [x.split(\" \")[0] for x in positionList]\n",
    "\n",
    "#No issues with safeties on this data set, but DTs are oddly labled as \"DI\"s, so we'll switch them back\n",
    "i = 0\n",
    "while i < len(positionList):\n",
    "        if positionList[i] == \"DI\":\n",
    "                positionList[i] = \"DT\"\n",
    "        i += 1"
   ]
  },
  {
   "cell_type": "code",
   "execution_count": 43,
   "metadata": {},
   "outputs": [],
   "source": [
    "#regex to find player ratings\n",
    "pattern = \"[0-9][0-9]\\.[0-9]\"\n",
    "ratingList = []\n",
    "for rating in re.finditer(pattern, output, flags = re.S | re.X):\n",
    "        ratingList.append(rating.group())"
   ]
  },
  {
   "cell_type": "code",
   "execution_count": 44,
   "metadata": {},
   "outputs": [
    {
     "data": {
      "text/plain": [
       "QB      93.3\n",
       "DT      89.9\n",
       "RT      84.1\n",
       "WR      82.2\n",
       "LG      80.7\n",
       "LB      78.8\n",
       "CB      76.4\n",
       "EDGE    74.7\n",
       "LT      72.8\n",
       "TE      70.9\n",
       "S       70.0\n",
       "RG      67.7\n",
       "RB      65.5\n",
       "C       63.6\n",
       "dtype: float64"
      ]
     },
     "execution_count": 44,
     "metadata": {},
     "output_type": "execute_result"
    }
   ],
   "source": [
    "#hand-inputed team list to line up with the rankings in the article\n",
    "teamList = [\"Buccaneers\", \"Chiefs\", \"Browns\", \"Bills\", \"Ravens\",\n",
    "            \"Packers\", \"Rams\", \"Cowboys\", \"Vikings\", \"Broncos\", \"49ers\",\n",
    "            \"Commanders\", \"Titans\", \"Colts\", \"Seahawks\", \"Steelers\", \"Saints\",\n",
    "            \"Patriots\", \"Giants\", \"Chargers\", \"Cardinals\", \"Dolphins\", \"Bears\",\n",
    "            \"Bengals\", \"Falcons\", \"Raiders\", \"Panthers\", \"Jaguars\", \"Eagles\",\n",
    "            \"Jets\", \"Lions\", \"Texans\"]\n",
    "\n",
    "#create a dictionary of teams with respective position rankings, sort from highest to lowest, dropping duplicates\n",
    "index = 0\n",
    "teamDict2021 = {}\n",
    "for team in teamList:\n",
    "        teamDict2021[team] = pd.Series(ratingList[index:index + 24], index = positionList[index:index + 24]).sort_values(ascending = False)\n",
    "        teamDict2021[team] = teamDict2021[team][~teamDict2021[team].index.duplicated(keep = 'first')]\n",
    "        teamDict2021[team] = pd.to_numeric(teamDict2021[team])\n",
    "        index += 24\n",
    "\n",
    "#Same issue with FB as before, also for some reason EDGE Andrew Van Ginkel was mislabled as an \"ED\"\n",
    "teamDict2021[\"Vikings\"] = teamDict2021[\"Vikings\"].drop(\"FB\")\n",
    "teamDict2021[\"49ers\"] = teamDict2021[\"49ers\"].drop(\"FB\")\n",
    "teamDict2021[\"Dolphins\"] = teamDict2021[\"Dolphins\"].drop(\"ED\")\n",
    "\n",
    "#Demonstrating position rankings for one team\n",
    "teamDict2021[\"Buccaneers\"]"
   ]
  },
  {
   "cell_type": "code",
   "execution_count": 45,
   "metadata": {},
   "outputs": [],
   "source": [
    "#import 2022 rosters\n",
    "with open(\"2022rosters.html\") as file:\n",
    "        output = file.read()"
   ]
  },
  {
   "cell_type": "code",
   "execution_count": 46,
   "metadata": {},
   "outputs": [],
   "source": [
    "#regex to find players - eventually going to condense into positions\n",
    "#this time we have to use a slightly different regex becasue the abbreviations have become incosistent\n",
    "#i.e. initial names are weird - like how D.J. Moore is \"DJ Moore\", while A.J. Brown is \"A.J. Brown\"\n",
    "pattern = \"\"\"\n",
    "(?P<PlayerNames>[A-Z]+[A-Z]*\\s[A-Z]+)\n",
    "\"\"\"\n",
    "\n",
    "#for some reason EDGEs are labled as \"Edge\", so we must fix this to maintain consistency\n",
    "output = re.sub(\"Edge\", \"EDGE\", output)\n",
    "playerList = []\n",
    "for player in re.finditer(pattern, output, flags = re.S | re.X):\n",
    "        playerList.append(player.group(\"PlayerNames\"))\n",
    "\n",
    "#no issues with break spaces in this data set\n",
    "positionList = [x.split(\" \")[0] for x in playerList]\n",
    "#the issue with \"DI\"s is back though\n",
    "i = 0\n",
    "while i < len(positionList):\n",
    "        if positionList[i] == \"DI\":\n",
    "                positionList[i] = \"DT\"\n",
    "        i += 1"
   ]
  },
  {
   "cell_type": "code",
   "execution_count": 47,
   "metadata": {},
   "outputs": [],
   "source": [
    "#regex to find player ratings\n",
    "pattern = \"[0-9][0-9]\\.[0-9]\"\n",
    "ratingList = []\n",
    "for rating in re.finditer(pattern, output, flags = re.S | re.X):\n",
    "        ratingList.append(rating.group())\n",
    "        \n",
    "#for some inexplicable reason, Derek Carr's (77.6) rating was left out\n",
    "ratingList.insert(480, \"77.6\")"
   ]
  },
  {
   "cell_type": "code",
   "execution_count": 48,
   "metadata": {},
   "outputs": [
    {
     "data": {
      "text/plain": [
       "EDGE    91.2\n",
       "QB      90.9\n",
       "RB      85.0\n",
       "S       83.8\n",
       "WR      81.5\n",
       "LT      79.4\n",
       "DT      71.8\n",
       "CB      70.3\n",
       "LG      68.1\n",
       "RG      66.3\n",
       "TE      63.6\n",
       "C       63.4\n",
       "RT      59.3\n",
       "LB      50.4\n",
       "dtype: float64"
      ]
     },
     "execution_count": 48,
     "metadata": {},
     "output_type": "execute_result"
    }
   ],
   "source": [
    "#hand-inputed team list to line up with the rankings in the article\n",
    "teamList = [\"Bills\", \"Buccaneers\", \"Chargers\", \"Rams\", \"Packers\", \"Browns\",\n",
    "            \"Eagles\", \"Bengals\", \"Chiefs\", \"Dolphins\", \"Saints\", \"Ravens\", \"49ers\",\n",
    "            \"Broncos\", \"Colts\", \"Cowboys\", \"Commanders\", \"Patriots\", \"Vikings\",\n",
    "            \"Titans\", \"Raiders\", \"Steelers\", \"Cardinals\", \"Jets\", \"Lions\", \"Giants\",\n",
    "            \"Panthers\", \"Jaguars\", \"Seahawks\", \"Bears\", \"Falcons\", \"Texans\"]\n",
    "\n",
    "#create a dictionary of teams with respective position rankings, sort from highest to lowest, dropping duplicates\n",
    "index = 0\n",
    "teamDict2022 = {}\n",
    "for team in teamList:\n",
    "        teamDict2022[team] = pd.Series(ratingList[index:index + 24], index = positionList[index:index + 24]).sort_values(ascending = False)\n",
    "        teamDict2022[team] = teamDict2022[team][~teamDict2022[team].index.duplicated(keep = 'first')]\n",
    "        teamDict2022[team] = pd.to_numeric(teamDict2022[team])\n",
    "        index += 24\n",
    "        \n",
    "#once again, the issue with FBs\n",
    "teamDict2022[\"Dolphins\"] = teamDict2022[\"Dolphins\"].drop(\"FB\")\n",
    "teamDict2022[\"Ravens\"] = teamDict2022[\"Ravens\"].drop(\"FB\")\n",
    "teamDict2022[\"49ers\"] = teamDict2022[\"49ers\"].drop(\"FB\")\n",
    "teamDict2022[\"Vikings\"] = teamDict2022[\"Vikings\"].drop(\"FB\")\n",
    "\n",
    "#Demonstrating position rankings for one team\n",
    "teamDict2022[\"Bills\"]"
   ]
  },
  {
   "cell_type": "code",
   "execution_count": 49,
   "metadata": {},
   "outputs": [],
   "source": [
    "#use pickle to export this data so it can be used in data cleaning\n",
    "import pickle\n",
    "\n",
    "pickle.dump(teamDict2020, open(\"2020Dict.p\", \"wb\"))\n",
    "pickle.dump(teamDict2021, open(\"2021Dict.p\", \"wb\"))\n",
    "pickle.dump(teamDict2022, open(\"2022Dict.p\", \"wb\"))\n"
   ]
  }
 ],
 "metadata": {
  "kernelspec": {
   "display_name": "Python 3.10.5 64-bit",
   "language": "python",
   "name": "python3"
  },
  "language_info": {
   "codemirror_mode": {
    "name": "ipython",
    "version": 3
   },
   "file_extension": ".py",
   "mimetype": "text/x-python",
   "name": "python",
   "nbconvert_exporter": "python",
   "pygments_lexer": "ipython3",
   "version": "3.10.5"
  },
  "orig_nbformat": 4,
  "vscode": {
   "interpreter": {
    "hash": "aee8b7b246df8f9039afb4144a1f6fd8d2ca17a180786b69acc140d282b71a49"
   }
  }
 },
 "nbformat": 4,
 "nbformat_minor": 2
}
