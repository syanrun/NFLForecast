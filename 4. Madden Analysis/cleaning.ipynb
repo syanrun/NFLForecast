{
 "cells": [
  {
   "cell_type": "code",
   "execution_count": 63,
   "metadata": {},
   "outputs": [],
   "source": [
    "#let's try to build another model using ratings from the annual Madden NFL video games\n",
    "#there are a couple advanatges including more comprehensive and empirical data\n",
    "\n",
    "#import required libraries\n",
    "import pandas as pd\n",
    "import numpy as np\n",
    "import pickle"
   ]
  },
  {
   "cell_type": "code",
   "execution_count": 64,
   "metadata": {},
   "outputs": [
    {
     "data": {
      "text/html": [
       "<div>\n",
       "<style scoped>\n",
       "    .dataframe tbody tr th:only-of-type {\n",
       "        vertical-align: middle;\n",
       "    }\n",
       "\n",
       "    .dataframe tbody tr th {\n",
       "        vertical-align: top;\n",
       "    }\n",
       "\n",
       "    .dataframe thead th {\n",
       "        text-align: right;\n",
       "    }\n",
       "</style>\n",
       "<table border=\"1\" class=\"dataframe\">\n",
       "  <thead>\n",
       "    <tr style=\"text-align: right;\">\n",
       "      <th></th>\n",
       "      <th>Team</th>\n",
       "      <th>Position</th>\n",
       "      <th>Rating</th>\n",
       "    </tr>\n",
       "  </thead>\n",
       "  <tbody>\n",
       "    <tr>\n",
       "      <th>10</th>\n",
       "      <td>Cardinals</td>\n",
       "      <td>WR1</td>\n",
       "      <td>99</td>\n",
       "    </tr>\n",
       "    <tr>\n",
       "      <th>1128</th>\n",
       "      <td>Rams</td>\n",
       "      <td>RE</td>\n",
       "      <td>99</td>\n",
       "    </tr>\n",
       "    <tr>\n",
       "      <th>664</th>\n",
       "      <td>Packers</td>\n",
       "      <td>WR1</td>\n",
       "      <td>99</td>\n",
       "    </tr>\n",
       "    <tr>\n",
       "      <th>904</th>\n",
       "      <td>Chiefs</td>\n",
       "      <td>QB</td>\n",
       "      <td>99</td>\n",
       "    </tr>\n",
       "    <tr>\n",
       "      <th>917</th>\n",
       "      <td>Chiefs</td>\n",
       "      <td>TE</td>\n",
       "      <td>99</td>\n",
       "    </tr>\n",
       "    <tr>\n",
       "      <th>...</th>\n",
       "      <td>...</td>\n",
       "      <td>...</td>\n",
       "      <td>...</td>\n",
       "    </tr>\n",
       "    <tr>\n",
       "      <th>1904</th>\n",
       "      <td>Commanders</td>\n",
       "      <td>LG</td>\n",
       "      <td>64</td>\n",
       "    </tr>\n",
       "    <tr>\n",
       "      <th>1610</th>\n",
       "      <td>Steelers</td>\n",
       "      <td>RT</td>\n",
       "      <td>64</td>\n",
       "    </tr>\n",
       "    <tr>\n",
       "      <th>1046</th>\n",
       "      <td>Chargers</td>\n",
       "      <td>LT</td>\n",
       "      <td>63</td>\n",
       "    </tr>\n",
       "    <tr>\n",
       "      <th>1233</th>\n",
       "      <td>Vikings</td>\n",
       "      <td>LG</td>\n",
       "      <td>63</td>\n",
       "    </tr>\n",
       "    <tr>\n",
       "      <th>314</th>\n",
       "      <td>Bears</td>\n",
       "      <td>RG</td>\n",
       "      <td>62</td>\n",
       "    </tr>\n",
       "  </tbody>\n",
       "</table>\n",
       "<p>736 rows × 3 columns</p>\n",
       "</div>"
      ],
      "text/plain": [
       "            Team Position  Rating\n",
       "10     Cardinals      WR1      99\n",
       "1128        Rams       RE      99\n",
       "664      Packers      WR1      99\n",
       "904       Chiefs       QB      99\n",
       "917       Chiefs       TE      99\n",
       "...          ...      ...     ...\n",
       "1904  Commanders       LG      64\n",
       "1610    Steelers       RT      64\n",
       "1046    Chargers       LT      63\n",
       "1233     Vikings       LG      63\n",
       "314        Bears       RG      62\n",
       "\n",
       "[736 rows x 3 columns]"
      ]
     },
     "execution_count": 64,
     "metadata": {},
     "output_type": "execute_result"
    }
   ],
   "source": [
    "#extract and clean 2020 data\n",
    "data2020 = pd.read_csv(\"madden_nfl_21.csv\")\n",
    "data2020 = data2020.drop(\"Player\", axis = 1)\n",
    "data2020 = data2020.sort_values(\"Rating\", ascending = False)\n",
    "data2020 = data2020.drop_duplicates(subset = [\"Team\", \"Position\"])\n",
    "data2020 = data2020[data2020[\"Position\"] != \"FB\"]\n",
    "data2020"
   ]
  },
  {
   "cell_type": "code",
   "execution_count": 65,
   "metadata": {},
   "outputs": [
    {
     "data": {
      "text/plain": [
       "WR1     99\n",
       "LOLB    94\n",
       "SS      91\n",
       "HB      83\n",
       "QB      82\n",
       "CB1     82\n",
       "CB2     81\n",
       "WR2     80\n",
       "ROLB    79\n",
       "WR3     79\n",
       "LG      78\n",
       "LT      77\n",
       "FS      76\n",
       "MLB     76\n",
       "DT      75\n",
       "P       74\n",
       "K       74\n",
       "TE      74\n",
       "RT      73\n",
       "RE      73\n",
       "RG      72\n",
       "LE      70\n",
       "C       68\n",
       "dtype: int64"
      ]
     },
     "execution_count": 65,
     "metadata": {},
     "output_type": "execute_result"
    }
   ],
   "source": [
    "#create dictionary of ratings\n",
    "dict2020 = {}\n",
    "for team in data2020[\"Team\"].unique():\n",
    "        dict2020[team] = pd.Series(dtype = \"float64\")\n",
    "for i in range(len(data2020)):\n",
    "        dict2020[data2020.iloc[i][\"Team\"]][data2020.iloc[i][\"Position\"]] = data2020.iloc[i][\"Rating\"]\n",
    "dict2020[\"Cardinals\"]"
   ]
  },
  {
   "cell_type": "code",
   "execution_count": 66,
   "metadata": {},
   "outputs": [
    {
     "data": {
      "text/html": [
       "<div>\n",
       "<style scoped>\n",
       "    .dataframe tbody tr th:only-of-type {\n",
       "        vertical-align: middle;\n",
       "    }\n",
       "\n",
       "    .dataframe tbody tr th {\n",
       "        vertical-align: top;\n",
       "    }\n",
       "\n",
       "    .dataframe thead th {\n",
       "        text-align: right;\n",
       "    }\n",
       "</style>\n",
       "<table border=\"1\" class=\"dataframe\">\n",
       "  <thead>\n",
       "    <tr style=\"text-align: right;\">\n",
       "      <th></th>\n",
       "      <th>Team</th>\n",
       "      <th>Position</th>\n",
       "      <th>OverallRating</th>\n",
       "    </tr>\n",
       "  </thead>\n",
       "  <tbody>\n",
       "    <tr>\n",
       "      <th>0</th>\n",
       "      <td>49ers</td>\n",
       "      <td>C</td>\n",
       "      <td>85</td>\n",
       "    </tr>\n",
       "    <tr>\n",
       "      <th>2</th>\n",
       "      <td>49ers</td>\n",
       "      <td>CB1</td>\n",
       "      <td>83</td>\n",
       "    </tr>\n",
       "    <tr>\n",
       "      <th>3</th>\n",
       "      <td>49ers</td>\n",
       "      <td>CB2</td>\n",
       "      <td>78</td>\n",
       "    </tr>\n",
       "    <tr>\n",
       "      <th>4</th>\n",
       "      <td>49ers</td>\n",
       "      <td>DT</td>\n",
       "      <td>76</td>\n",
       "    </tr>\n",
       "    <tr>\n",
       "      <th>10</th>\n",
       "      <td>49ers</td>\n",
       "      <td>FS</td>\n",
       "      <td>81</td>\n",
       "    </tr>\n",
       "    <tr>\n",
       "      <th>...</th>\n",
       "      <td>...</td>\n",
       "      <td>...</td>\n",
       "      <td>...</td>\n",
       "    </tr>\n",
       "    <tr>\n",
       "      <th>1732</th>\n",
       "      <td>Vikings</td>\n",
       "      <td>SS</td>\n",
       "      <td>90</td>\n",
       "    </tr>\n",
       "    <tr>\n",
       "      <th>1734</th>\n",
       "      <td>Vikings</td>\n",
       "      <td>TE</td>\n",
       "      <td>77</td>\n",
       "    </tr>\n",
       "    <tr>\n",
       "      <th>1740</th>\n",
       "      <td>Vikings</td>\n",
       "      <td>WR1</td>\n",
       "      <td>90</td>\n",
       "    </tr>\n",
       "    <tr>\n",
       "      <th>1741</th>\n",
       "      <td>Vikings</td>\n",
       "      <td>WR2</td>\n",
       "      <td>88</td>\n",
       "    </tr>\n",
       "    <tr>\n",
       "      <th>1742</th>\n",
       "      <td>Vikings</td>\n",
       "      <td>WR3</td>\n",
       "      <td>72</td>\n",
       "    </tr>\n",
       "  </tbody>\n",
       "</table>\n",
       "<p>736 rows × 3 columns</p>\n",
       "</div>"
      ],
      "text/plain": [
       "         Team Position  OverallRating\n",
       "0       49ers        C             85\n",
       "2       49ers      CB1             83\n",
       "3       49ers      CB2             78\n",
       "4       49ers       DT             76\n",
       "10      49ers       FS             81\n",
       "...       ...      ...            ...\n",
       "1732  Vikings       SS             90\n",
       "1734  Vikings       TE             77\n",
       "1740  Vikings      WR1             90\n",
       "1741  Vikings      WR2             88\n",
       "1742  Vikings      WR3             72\n",
       "\n",
       "[736 rows x 3 columns]"
      ]
     },
     "execution_count": 66,
     "metadata": {},
     "output_type": "execute_result"
    }
   ],
   "source": [
    "#repeat with 2021 and 2022 data\n",
    "data2021 = pd.read_csv(\"madden_nfl_22.csv\")\n",
    "data2021 = data2021[[\"Team\", \"Position\", \"OverallRating\"]]\n",
    "data2021 = data2021.drop_duplicates(subset = [\"Team\", \"Position\"])\n",
    "data2021 = data2021[data2021[\"Position\"] != \"FB\"]\n",
    "data2021"
   ]
  },
  {
   "cell_type": "code",
   "execution_count": 67,
   "metadata": {},
   "outputs": [
    {
     "data": {
      "text/plain": [
       "C       90\n",
       "CB1     81\n",
       "CB2     76\n",
       "DT      73\n",
       "FS      79\n",
       "HB      83\n",
       "K       78\n",
       "LE      90\n",
       "LG      78\n",
       "LOLB    79\n",
       "LT      77\n",
       "MLB     78\n",
       "P       76\n",
       "QB      86\n",
       "RE      74\n",
       "RG      66\n",
       "ROLB    93\n",
       "RT      73\n",
       "SS      93\n",
       "TE      84\n",
       "WR1     97\n",
       "WR2     81\n",
       "WR3     80\n",
       "dtype: int64"
      ]
     },
     "execution_count": 67,
     "metadata": {},
     "output_type": "execute_result"
    }
   ],
   "source": [
    "dict2021 = {}\n",
    "for team in data2021[\"Team\"].unique():\n",
    "        dict2021[team] = pd.Series(dtype = \"float64\")\n",
    "for i in range(len(data2020)):\n",
    "        dict2021[data2021.iloc[i][\"Team\"]][data2021.iloc[i][\"Position\"]] = data2021.iloc[i][\"OverallRating\"]\n",
    "dict2021[\"Cardinals\"]"
   ]
  },
  {
   "cell_type": "code",
   "execution_count": 68,
   "metadata": {},
   "outputs": [
    {
     "data": {
      "text/plain": [
       "Index(['Team', 'Position', 'Rating'], dtype='object')"
      ]
     },
     "execution_count": 68,
     "metadata": {},
     "output_type": "execute_result"
    }
   ],
   "source": [
    "data2022 = pd.read_csv(\"madden_nfl_23.csv\")\n",
    "data2022.columns"
   ]
  },
  {
   "cell_type": "code",
   "execution_count": 69,
   "metadata": {},
   "outputs": [
    {
     "data": {
      "text/plain": [
       "QB      84\n",
       "HB      81\n",
       "WR1     96\n",
       "WR2     84\n",
       "WR3     80\n",
       "TE      84\n",
       "LT      75\n",
       "LG      79\n",
       "C       89\n",
       "RG      72\n",
       "RT      73\n",
       "DT      68\n",
       "LE      87\n",
       "RE      72\n",
       "LOLB    78\n",
       "MLB     78\n",
       "ROLB    74\n",
       "FS      79\n",
       "SS      92\n",
       "CB1     82\n",
       "CB2     70\n",
       "K       78\n",
       "P       74\n",
       "dtype: int64"
      ]
     },
     "execution_count": 69,
     "metadata": {},
     "output_type": "execute_result"
    }
   ],
   "source": [
    "dict2022 = {}\n",
    "for team in data2022[\"Team\"].unique():\n",
    "        dict2022[team] = pd.Series(dtype = \"float64\")\n",
    "for i in range(len(data2020)):\n",
    "        dict2022[data2022.iloc[i][\"Team\"]][data2022.iloc[i][\"Position\"]] = data2022.iloc[i][\"Rating\"]\n",
    "dict2022[\"Cardinals\"]"
   ]
  },
  {
   "cell_type": "code",
   "execution_count": 70,
   "metadata": {},
   "outputs": [],
   "source": [
    "#pickle data\n",
    "\n",
    "pickle.dump(dict2020, open(\"2020Dict.p\", \"wb\"))\n",
    "pickle.dump(dict2021, open(\"2021Dict.p\", \"wb\"))\n",
    "pickle.dump(dict2022, open(\"2022Dict.p\", \"wb\"))"
   ]
  }
 ],
 "metadata": {
  "kernelspec": {
   "display_name": "Python 3.10.5 64-bit",
   "language": "python",
   "name": "python3"
  },
  "language_info": {
   "codemirror_mode": {
    "name": "ipython",
    "version": 3
   },
   "file_extension": ".py",
   "mimetype": "text/x-python",
   "name": "python",
   "nbconvert_exporter": "python",
   "pygments_lexer": "ipython3",
   "version": "3.10.5"
  },
  "orig_nbformat": 4,
  "vscode": {
   "interpreter": {
    "hash": "aee8b7b246df8f9039afb4144a1f6fd8d2ca17a180786b69acc140d282b71a49"
   }
  }
 },
 "nbformat": 4,
 "nbformat_minor": 2
}
